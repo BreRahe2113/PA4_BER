{
 "cells": [
  {
   "cell_type": "code",
   "execution_count": 2,
   "id": "d91aace6",
   "metadata": {},
   "outputs": [
    {
     "name": "stdout",
     "output_type": "stream",
     "text": [
      "[25, 9, 6, 42, 23, 7, 31, 33, 16, 8, 45, 13, 16, 34, 25]\n"
     ]
    }
   ],
   "source": [
    "import random\n",
    "numbers=[random.randrange(1,61) for i in range(15)]\n",
    "print(numbers)"
   ]
  },
  {
   "cell_type": "markdown",
   "id": "0e4020df",
   "metadata": {},
   "source": [
    "Append: allows you to append a single element to the end of a list"
   ]
  },
  {
   "cell_type": "code",
   "execution_count": 3,
   "id": "74cd6c23",
   "metadata": {},
   "outputs": [
    {
     "data": {
      "text/plain": [
       "[25, 9, 6, 42, 23, 7, 31, 33, 16, 8, 45, 13, 16, 34, 25]"
      ]
     },
     "execution_count": 3,
     "metadata": {},
     "output_type": "execute_result"
    }
   ],
   "source": [
    "numbers"
   ]
  },
  {
   "cell_type": "code",
   "execution_count": 4,
   "id": "17ef03ab",
   "metadata": {},
   "outputs": [
    {
     "data": {
      "text/plain": [
       "[25, 9, 6, 42, 23, 7, 31, 33, 16, 8, 45, 13, 16, 34, 25, 45]"
      ]
     },
     "execution_count": 4,
     "metadata": {},
     "output_type": "execute_result"
    }
   ],
   "source": [
    "numbers.append(45)\n",
    "numbers"
   ]
  },
  {
   "cell_type": "markdown",
   "id": "1869a821",
   "metadata": {},
   "source": [
    "Extend: Allows you to append several numbers to the end of a list"
   ]
  },
  {
   "cell_type": "code",
   "execution_count": 5,
   "id": "73308bfc",
   "metadata": {},
   "outputs": [
    {
     "data": {
      "text/plain": [
       "[25, 9, 6, 42, 23, 7, 31, 33, 16, 8, 45, 13, 16, 34, 25, 45, 11, 12, 13]"
      ]
     },
     "execution_count": 5,
     "metadata": {},
     "output_type": "execute_result"
    }
   ],
   "source": [
    "numbers.extend([11,12,13])\n",
    "numbers"
   ]
  },
  {
   "cell_type": "markdown",
   "id": "e16393db",
   "metadata": {},
   "source": [
    "Insert: Allows us to insert into a list at any location"
   ]
  },
  {
   "cell_type": "code",
   "execution_count": 6,
   "id": "fba307b0",
   "metadata": {},
   "outputs": [
    {
     "data": {
      "text/plain": [
       "[25, 9, 6, 42, 23, 7, 31, 33, 16, 8, 45, 13, 16, 34, 25, 45, 11, 12, 13]"
      ]
     },
     "execution_count": 6,
     "metadata": {},
     "output_type": "execute_result"
    }
   ],
   "source": [
    "numbers"
   ]
  },
  {
   "cell_type": "code",
   "execution_count": 8,
   "id": "8accec44",
   "metadata": {},
   "outputs": [
    {
     "data": {
      "text/plain": [
       "[25, 9, 6, 42, 34, 23, 7, 31, 33, 16, 8, 45, 13, 16, 34, 25, 45, 11, 12, 13]"
      ]
     },
     "execution_count": 8,
     "metadata": {},
     "output_type": "execute_result"
    }
   ],
   "source": [
    "numbers.insert(4,34)\n",
    "numbers"
   ]
  },
  {
   "cell_type": "markdown",
   "id": "36a7d0a9",
   "metadata": {},
   "source": [
    "Remove: removes an element from a list so long as it exists"
   ]
  },
  {
   "cell_type": "code",
   "execution_count": 9,
   "id": "7f2c45a3",
   "metadata": {},
   "outputs": [
    {
     "data": {
      "text/plain": [
       "[25, 9, 6, 42, 34, 23, 7, 31, 16, 8, 45, 13, 16, 34, 25, 45, 11, 12, 13]"
      ]
     },
     "execution_count": 9,
     "metadata": {},
     "output_type": "execute_result"
    }
   ],
   "source": [
    "numbers.remove(33)\n",
    "numbers"
   ]
  },
  {
   "cell_type": "markdown",
   "id": "0265df36",
   "metadata": {},
   "source": [
    "Count: THis returns how many times a partcular element appears on a list"
   ]
  },
  {
   "cell_type": "code",
   "execution_count": 10,
   "id": "c901d760",
   "metadata": {},
   "outputs": [
    {
     "data": {
      "text/plain": [
       "2"
      ]
     },
     "execution_count": 10,
     "metadata": {},
     "output_type": "execute_result"
    }
   ],
   "source": [
    "numbers.count(34)"
   ]
  },
  {
   "cell_type": "markdown",
   "id": "4ddc84ad",
   "metadata": {},
   "source": [
    "Index: this returns the location of an item in the list"
   ]
  },
  {
   "cell_type": "code",
   "execution_count": 11,
   "id": "4fdbefb6",
   "metadata": {},
   "outputs": [
    {
     "data": {
      "text/plain": [
       "1"
      ]
     },
     "execution_count": 11,
     "metadata": {},
     "output_type": "execute_result"
    }
   ],
   "source": [
    "numbers.index(9)"
   ]
  },
  {
   "cell_type": "markdown",
   "id": "97668c9b",
   "metadata": {},
   "source": [
    "Pop?"
   ]
  },
  {
   "cell_type": "markdown",
   "id": "197db6db",
   "metadata": {},
   "source": [
    "Sort: this will permanently sort your list"
   ]
  },
  {
   "cell_type": "code",
   "execution_count": 14,
   "id": "3f8e1de4",
   "metadata": {},
   "outputs": [
    {
     "data": {
      "text/plain": [
       "[6, 7, 8, 9, 11, 12, 13, 13, 16, 16, 23, 25, 25, 31, 34, 34, 42, 45, 45]"
      ]
     },
     "execution_count": 14,
     "metadata": {},
     "output_type": "execute_result"
    }
   ],
   "source": [
    "numbers.sort()\n",
    "numbers"
   ]
  },
  {
   "cell_type": "markdown",
   "id": "d80d7a7d",
   "metadata": {},
   "source": [
    "Copy: Returns a copy of the list that is independent of the original list"
   ]
  },
  {
   "cell_type": "code",
   "execution_count": 15,
   "id": "1f50aa99",
   "metadata": {},
   "outputs": [
    {
     "data": {
      "text/plain": [
       "[6, 7, 8, 9, 11, 12, 13, 13, 16, 16, 23, 25, 25, 31, 34, 34, 42, 45, 45]"
      ]
     },
     "execution_count": 15,
     "metadata": {},
     "output_type": "execute_result"
    }
   ],
   "source": [
    "d=numbers.copy()\n",
    "d"
   ]
  },
  {
   "cell_type": "markdown",
   "id": "ed219183",
   "metadata": {},
   "source": [
    "Clear: removes all elements from a list"
   ]
  },
  {
   "cell_type": "code",
   "execution_count": 16,
   "id": "1a3f0ca8",
   "metadata": {},
   "outputs": [
    {
     "data": {
      "text/plain": [
       "[]"
      ]
     },
     "execution_count": 16,
     "metadata": {},
     "output_type": "execute_result"
    }
   ],
   "source": [
    "numbers.clear()\n",
    "numbers"
   ]
  },
  {
   "cell_type": "markdown",
   "id": "5b3346c9",
   "metadata": {},
   "source": [
    "Any: returns True if any item in its iterable arrgument is True. All: returns Tre if all items in the iterable argument are True."
   ]
  },
  {
   "cell_type": "code",
   "execution_count": 17,
   "id": "6ccc381a",
   "metadata": {},
   "outputs": [
    {
     "data": {
      "text/plain": [
       "True"
      ]
     },
     "execution_count": 17,
     "metadata": {},
     "output_type": "execute_result"
    }
   ],
   "source": [
    "items=[True, True, True, False, True, False]\n",
    "any(items)"
   ]
  },
  {
   "cell_type": "code",
   "execution_count": 18,
   "id": "74707c24",
   "metadata": {},
   "outputs": [
    {
     "data": {
      "text/plain": [
       "False"
      ]
     },
     "execution_count": 18,
     "metadata": {},
     "output_type": "execute_result"
    }
   ],
   "source": [
    "all(items)"
   ]
  },
  {
   "cell_type": "markdown",
   "id": "1156558b",
   "metadata": {},
   "source": [
    "Filter/Map: filter creates a list of elements for a funiton returns true, Map applies a function to all the elements in an input_list"
   ]
  },
  {
   "cell_type": "code",
   "execution_count": 23,
   "id": "03b47fc8",
   "metadata": {},
   "outputs": [],
   "source": [
    "def greater_ten(x):\n",
    "    if x>10:\n",
    "        return x"
   ]
  },
  {
   "cell_type": "code",
   "execution_count": 24,
   "id": "affa3e17",
   "metadata": {},
   "outputs": [
    {
     "name": "stdout",
     "output_type": "stream",
     "text": [
      "[32, 19, 4, 28, 43, 34, 28, 1, 22, 11, 38, 37]\n"
     ]
    }
   ],
   "source": [
    "import random\n",
    "numbers=[random.randrange(1,50) for i in range(12)]\n",
    "print(numbers)"
   ]
  },
  {
   "cell_type": "code",
   "execution_count": 25,
   "id": "4a3d12c4",
   "metadata": {},
   "outputs": [
    {
     "data": {
      "text/plain": [
       "[32, 19, 28, 43, 34, 28, 22, 11, 38, 37]"
      ]
     },
     "execution_count": 25,
     "metadata": {},
     "output_type": "execute_result"
    }
   ],
   "source": [
    "list(filter(greater_ten, numbers))"
   ]
  },
  {
   "cell_type": "code",
   "execution_count": 26,
   "id": "b5242516",
   "metadata": {},
   "outputs": [
    {
     "data": {
      "text/plain": [
       "[32, 19, None, 28, 43, 34, 28, None, 22, 11, 38, 37]"
      ]
     },
     "execution_count": 26,
     "metadata": {},
     "output_type": "execute_result"
    }
   ],
   "source": [
    "list(map(greater_ten, numbers))"
   ]
  },
  {
   "cell_type": "markdown",
   "id": "a37e5dca",
   "metadata": {},
   "source": [
    "Tuples"
   ]
  },
  {
   "cell_type": "markdown",
   "id": "54fbc958",
   "metadata": {},
   "source": [
    "cmp: Compares elements of both tuples."
   ]
  },
  {
   "cell_type": "markdown",
   "id": "948dd8ad",
   "metadata": {},
   "source": [
    "len(tuple) :Gives the total length of the tuple."
   ]
  },
  {
   "cell_type": "code",
   "execution_count": 32,
   "id": "7fd246c2",
   "metadata": {},
   "outputs": [
    {
     "name": "stdout",
     "output_type": "stream",
     "text": [
      "First tuple length :  3\n",
      "Second tuple length :  2\n"
     ]
    }
   ],
   "source": [
    "tuple1, tuple2 = (123, 'xyz', 'boo'), (456, 'abc')\n",
    "print (\"First tuple length : \", len(tuple1))\n",
    "print (\"Second tuple length : \", len(tuple2))"
   ]
  },
  {
   "cell_type": "markdown",
   "id": "e9e0ca42",
   "metadata": {},
   "source": [
    "max(tuple): Returns item max value.\n",
    "min(tuple): Returns item  min value.\n"
   ]
  },
  {
   "cell_type": "code",
   "execution_count": 36,
   "id": "cafb5bb6",
   "metadata": {},
   "outputs": [
    {
     "name": "stdout",
     "output_type": "stream",
     "text": [
      "[12, 36, 39, 56, 94]\n"
     ]
    }
   ],
   "source": [
    "input=[94,56,12,36,39]\n",
    "d=sorted(input)\n",
    "print(d)"
   ]
  },
  {
   "cell_type": "code",
   "execution_count": 37,
   "id": "db3274ce",
   "metadata": {},
   "outputs": [
    {
     "name": "stdout",
     "output_type": "stream",
     "text": [
      "the largest element is 94\n",
      "the smallest element is 12\n"
     ]
    }
   ],
   "source": [
    "print('the largest element is', max(input))\n",
    "print('the smallest element is', min(input))"
   ]
  },
  {
   "cell_type": "markdown",
   "id": "cc370a4e",
   "metadata": {},
   "source": [
    "tuple(seq) Converts a list into tuple."
   ]
  },
  {
   "cell_type": "markdown",
   "id": "12c7050c",
   "metadata": {},
   "source": [
    "I am sorry, I am not sure what cmp and tuple(seq) are. I tried looking online but I can't find anythign helpful."
   ]
  },
  {
   "cell_type": "markdown",
   "id": "0d9a3281",
   "metadata": {},
   "source": [
    "## PA4, Breanna Rahe, CS-150"
   ]
  }
 ],
 "metadata": {
  "kernelspec": {
   "display_name": "Python 3",
   "language": "python",
   "name": "python3"
  },
  "language_info": {
   "codemirror_mode": {
    "name": "ipython",
    "version": 3
   },
   "file_extension": ".py",
   "mimetype": "text/x-python",
   "name": "python",
   "nbconvert_exporter": "python",
   "pygments_lexer": "ipython3",
   "version": "3.8.8"
  }
 },
 "nbformat": 4,
 "nbformat_minor": 5
}
